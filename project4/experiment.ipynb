{
 "cells": [
  {
   "cell_type": "code",
   "execution_count": 40,
   "id": "43f21fe2",
   "metadata": {},
   "outputs": [],
   "source": [
    "import pandas as pd\n",
    "import numpy as np\n",
    "from tensorflow.keras.preprocessing.text import Tokenizer\n",
    "from tensorflow.keras.preprocessing.sequence import pad_sequences\n",
    "from sklearn.model_selection import train_test_split"
   ]
  },
  {
   "cell_type": "code",
   "execution_count": 41,
   "id": "900fdde3",
   "metadata": {},
   "outputs": [
    {
     "data": {
      "text/html": [
       "<div>\n",
       "<style scoped>\n",
       "    .dataframe tbody tr th:only-of-type {\n",
       "        vertical-align: middle;\n",
       "    }\n",
       "\n",
       "    .dataframe tbody tr th {\n",
       "        vertical-align: top;\n",
       "    }\n",
       "\n",
       "    .dataframe thead th {\n",
       "        text-align: right;\n",
       "    }\n",
       "</style>\n",
       "<table border=\"1\" class=\"dataframe\">\n",
       "  <thead>\n",
       "    <tr style=\"text-align: right;\">\n",
       "      <th></th>\n",
       "      <th>Unnamed: 0</th>\n",
       "      <th>text</th>\n",
       "      <th>title</th>\n",
       "      <th>target</th>\n",
       "    </tr>\n",
       "  </thead>\n",
       "  <tbody>\n",
       "    <tr>\n",
       "      <th>0</th>\n",
       "      <td>0</td>\n",
       "      <td>Welcome to /r/depression's check-in post - a p...</td>\n",
       "      <td>Regular check-in post, with information about ...</td>\n",
       "      <td>1</td>\n",
       "    </tr>\n",
       "    <tr>\n",
       "      <th>1</th>\n",
       "      <td>1</td>\n",
       "      <td>We understand that most people who reply immed...</td>\n",
       "      <td>Our most-broken and least-understood rules is ...</td>\n",
       "      <td>1</td>\n",
       "    </tr>\n",
       "    <tr>\n",
       "      <th>2</th>\n",
       "      <td>2</td>\n",
       "      <td>Anyone else just miss physical touch? I crave ...</td>\n",
       "      <td>I haven’t been touched, or even hugged, in so ...</td>\n",
       "      <td>1</td>\n",
       "    </tr>\n",
       "    <tr>\n",
       "      <th>3</th>\n",
       "      <td>3</td>\n",
       "      <td>I’m just so ashamed. Everyone and everything f...</td>\n",
       "      <td>Being Depressed is Embarrassing</td>\n",
       "      <td>1</td>\n",
       "    </tr>\n",
       "    <tr>\n",
       "      <th>4</th>\n",
       "      <td>4</td>\n",
       "      <td>I really need a friend. I don't even have a si...</td>\n",
       "      <td>I'm desperate for a friend and to feel loved b...</td>\n",
       "      <td>1</td>\n",
       "    </tr>\n",
       "  </tbody>\n",
       "</table>\n",
       "</div>"
      ],
      "text/plain": [
       "   Unnamed: 0                                               text  \\\n",
       "0           0  Welcome to /r/depression's check-in post - a p...   \n",
       "1           1  We understand that most people who reply immed...   \n",
       "2           2  Anyone else just miss physical touch? I crave ...   \n",
       "3           3  I’m just so ashamed. Everyone and everything f...   \n",
       "4           4  I really need a friend. I don't even have a si...   \n",
       "\n",
       "                                               title  target  \n",
       "0  Regular check-in post, with information about ...       1  \n",
       "1  Our most-broken and least-understood rules is ...       1  \n",
       "2  I haven’t been touched, or even hugged, in so ...       1  \n",
       "3                    Being Depressed is Embarrassing       1  \n",
       "4  I'm desperate for a friend and to feel loved b...       1  "
      ]
     },
     "execution_count": 41,
     "metadata": {},
     "output_type": "execute_result"
    }
   ],
   "source": [
    "df = pd.read_csv('dataset.csv')\n",
    "df.head()"
   ]
  },
  {
   "cell_type": "code",
   "execution_count": 42,
   "id": "5d39d8cb",
   "metadata": {},
   "outputs": [
    {
     "data": {
      "text/html": [
       "<div>\n",
       "<style scoped>\n",
       "    .dataframe tbody tr th:only-of-type {\n",
       "        vertical-align: middle;\n",
       "    }\n",
       "\n",
       "    .dataframe tbody tr th {\n",
       "        vertical-align: top;\n",
       "    }\n",
       "\n",
       "    .dataframe thead th {\n",
       "        text-align: right;\n",
       "    }\n",
       "</style>\n",
       "<table border=\"1\" class=\"dataframe\">\n",
       "  <thead>\n",
       "    <tr style=\"text-align: right;\">\n",
       "      <th></th>\n",
       "      <th>text</th>\n",
       "      <th>title</th>\n",
       "      <th>target</th>\n",
       "    </tr>\n",
       "  </thead>\n",
       "  <tbody>\n",
       "    <tr>\n",
       "      <th>0</th>\n",
       "      <td>Welcome to /r/depression's check-in post - a p...</td>\n",
       "      <td>Regular check-in post, with information about ...</td>\n",
       "      <td>1</td>\n",
       "    </tr>\n",
       "    <tr>\n",
       "      <th>1</th>\n",
       "      <td>We understand that most people who reply immed...</td>\n",
       "      <td>Our most-broken and least-understood rules is ...</td>\n",
       "      <td>1</td>\n",
       "    </tr>\n",
       "    <tr>\n",
       "      <th>2</th>\n",
       "      <td>Anyone else just miss physical touch? I crave ...</td>\n",
       "      <td>I haven’t been touched, or even hugged, in so ...</td>\n",
       "      <td>1</td>\n",
       "    </tr>\n",
       "    <tr>\n",
       "      <th>3</th>\n",
       "      <td>I’m just so ashamed. Everyone and everything f...</td>\n",
       "      <td>Being Depressed is Embarrassing</td>\n",
       "      <td>1</td>\n",
       "    </tr>\n",
       "    <tr>\n",
       "      <th>4</th>\n",
       "      <td>I really need a friend. I don't even have a si...</td>\n",
       "      <td>I'm desperate for a friend and to feel loved b...</td>\n",
       "      <td>1</td>\n",
       "    </tr>\n",
       "  </tbody>\n",
       "</table>\n",
       "</div>"
      ],
      "text/plain": [
       "                                                text  \\\n",
       "0  Welcome to /r/depression's check-in post - a p...   \n",
       "1  We understand that most people who reply immed...   \n",
       "2  Anyone else just miss physical touch? I crave ...   \n",
       "3  I’m just so ashamed. Everyone and everything f...   \n",
       "4  I really need a friend. I don't even have a si...   \n",
       "\n",
       "                                               title  target  \n",
       "0  Regular check-in post, with information about ...       1  \n",
       "1  Our most-broken and least-understood rules is ...       1  \n",
       "2  I haven’t been touched, or even hugged, in so ...       1  \n",
       "3                    Being Depressed is Embarrassing       1  \n",
       "4  I'm desperate for a friend and to feel loved b...       1  "
      ]
     },
     "execution_count": 42,
     "metadata": {},
     "output_type": "execute_result"
    }
   ],
   "source": [
    "df = df.drop(columns='Unnamed: 0',axis=1)\n",
    "df.head()"
   ]
  },
  {
   "cell_type": "code",
   "execution_count": 43,
   "id": "7305f159",
   "metadata": {},
   "outputs": [
    {
     "data": {
      "text/html": [
       "<div>\n",
       "<style scoped>\n",
       "    .dataframe tbody tr th:only-of-type {\n",
       "        vertical-align: middle;\n",
       "    }\n",
       "\n",
       "    .dataframe tbody tr th {\n",
       "        vertical-align: top;\n",
       "    }\n",
       "\n",
       "    .dataframe thead th {\n",
       "        text-align: right;\n",
       "    }\n",
       "</style>\n",
       "<table border=\"1\" class=\"dataframe\">\n",
       "  <thead>\n",
       "    <tr style=\"text-align: right;\">\n",
       "      <th></th>\n",
       "      <th>text</th>\n",
       "      <th>title</th>\n",
       "      <th>target</th>\n",
       "      <th>title_text</th>\n",
       "    </tr>\n",
       "  </thead>\n",
       "  <tbody>\n",
       "    <tr>\n",
       "      <th>0</th>\n",
       "      <td>Welcome to /r/depression's check-in post - a p...</td>\n",
       "      <td>Regular check-in post, with information about ...</td>\n",
       "      <td>1</td>\n",
       "      <td>Regular check-in post, with information about ...</td>\n",
       "    </tr>\n",
       "    <tr>\n",
       "      <th>1</th>\n",
       "      <td>We understand that most people who reply immed...</td>\n",
       "      <td>Our most-broken and least-understood rules is ...</td>\n",
       "      <td>1</td>\n",
       "      <td>Our most-broken and least-understood rules is ...</td>\n",
       "    </tr>\n",
       "    <tr>\n",
       "      <th>2</th>\n",
       "      <td>Anyone else just miss physical touch? I crave ...</td>\n",
       "      <td>I haven’t been touched, or even hugged, in so ...</td>\n",
       "      <td>1</td>\n",
       "      <td>I haven’t been touched, or even hugged, in so ...</td>\n",
       "    </tr>\n",
       "    <tr>\n",
       "      <th>3</th>\n",
       "      <td>I’m just so ashamed. Everyone and everything f...</td>\n",
       "      <td>Being Depressed is Embarrassing</td>\n",
       "      <td>1</td>\n",
       "      <td>Being Depressed is Embarrassing I’m just so as...</td>\n",
       "    </tr>\n",
       "    <tr>\n",
       "      <th>4</th>\n",
       "      <td>I really need a friend. I don't even have a si...</td>\n",
       "      <td>I'm desperate for a friend and to feel loved b...</td>\n",
       "      <td>1</td>\n",
       "      <td>I'm desperate for a friend and to feel loved b...</td>\n",
       "    </tr>\n",
       "  </tbody>\n",
       "</table>\n",
       "</div>"
      ],
      "text/plain": [
       "                                                text  \\\n",
       "0  Welcome to /r/depression's check-in post - a p...   \n",
       "1  We understand that most people who reply immed...   \n",
       "2  Anyone else just miss physical touch? I crave ...   \n",
       "3  I’m just so ashamed. Everyone and everything f...   \n",
       "4  I really need a friend. I don't even have a si...   \n",
       "\n",
       "                                               title  target  \\\n",
       "0  Regular check-in post, with information about ...       1   \n",
       "1  Our most-broken and least-understood rules is ...       1   \n",
       "2  I haven’t been touched, or even hugged, in so ...       1   \n",
       "3                    Being Depressed is Embarrassing       1   \n",
       "4  I'm desperate for a friend and to feel loved b...       1   \n",
       "\n",
       "                                          title_text  \n",
       "0  Regular check-in post, with information about ...  \n",
       "1  Our most-broken and least-understood rules is ...  \n",
       "2  I haven’t been touched, or even hugged, in so ...  \n",
       "3  Being Depressed is Embarrassing I’m just so as...  \n",
       "4  I'm desperate for a friend and to feel loved b...  "
      ]
     },
     "execution_count": 43,
     "metadata": {},
     "output_type": "execute_result"
    }
   ],
   "source": [
    "df['title_text']=df['title']+\" \"+df['text']\n",
    "df.head()"
   ]
  },
  {
   "cell_type": "code",
   "execution_count": 44,
   "id": "21d14b53",
   "metadata": {},
   "outputs": [],
   "source": [
    "X = df['title_text'].astype(str).values\n",
    "y = df['target'].values"
   ]
  },
  {
   "cell_type": "code",
   "execution_count": 45,
   "id": "c7127ea1",
   "metadata": {},
   "outputs": [],
   "source": [
    "X_train, X_test, y_train, y_test = train_test_split(X,y,test_size=0.2,random_state=42)"
   ]
  },
  {
   "cell_type": "code",
   "execution_count": 46,
   "id": "9f5d2eb8",
   "metadata": {},
   "outputs": [],
   "source": [
    "vocab_size = 10000\n",
    "embedding_dim =200\n",
    "max_len =200\n"
   ]
  },
  {
   "cell_type": "code",
   "execution_count": 47,
   "id": "2d347a9d",
   "metadata": {},
   "outputs": [],
   "source": [
    "tokenizer = Tokenizer(num_words=vocab_size,oov_token=\"<OOV>\")\n",
    "tokenizer.fit_on_texts(X_train)"
   ]
  },
  {
   "cell_type": "code",
   "execution_count": 48,
   "id": "85e8c097",
   "metadata": {},
   "outputs": [],
   "source": [
    "X_train_seq = tokenizer.texts_to_sequences(X_train)\n",
    "X_test_seq = tokenizer.texts_to_sequences(X_test)"
   ]
  },
  {
   "cell_type": "code",
   "execution_count": 49,
   "id": "86b80d0b",
   "metadata": {},
   "outputs": [],
   "source": [
    "X_train_pad = pad_sequences(X_train_seq, maxlen=max_len, padding='post', truncating='post')\n",
    "X_test_pad = pad_sequences(X_test_seq, maxlen=max_len, padding='post', truncating='post')\n",
    "\n"
   ]
  },
  {
   "cell_type": "code",
   "execution_count": 50,
   "id": "05d1c767",
   "metadata": {},
   "outputs": [],
   "source": [
    "embeddings_index = {}\n",
    "embedding_dim = 200  \n",
    "with open('glove.6B.200d.txt', encoding='utf-8') as f: \n",
    "    for line in f:\n",
    "        values = line.split()\n",
    "        word = values[0]\n",
    "        coefs = np.asarray(values[1:], dtype='float32')\n",
    "        embeddings_index[word] = coefs"
   ]
  },
  {
   "cell_type": "code",
   "execution_count": 51,
   "id": "59221e45",
   "metadata": {},
   "outputs": [],
   "source": [
    "embedding_matrix =np.zeros((vocab_size, embedding_dim))"
   ]
  },
  {
   "cell_type": "code",
   "execution_count": 52,
   "id": "f3f13ace",
   "metadata": {},
   "outputs": [],
   "source": [
    "embedding_matrix = np.zeros((vocab_size, embedding_dim))\n",
    "for word, i in tokenizer.word_index.items():\n",
    "    if i < vocab_size:\n",
    "        embedding_vector = embeddings_index.get(word)\n",
    "        if embedding_vector is not None:\n",
    "            embedding_matrix[i] = embedding_vector"
   ]
  },
  {
   "cell_type": "code",
   "execution_count": 53,
   "id": "2dccb45d",
   "metadata": {},
   "outputs": [],
   "source": [
    "from tensorflow.keras.models import Sequential\n",
    "from tensorflow.keras.layers import Embedding, LSTM, Dense, Bidirectional, Dropout"
   ]
  },
  {
   "cell_type": "code",
   "execution_count": 54,
   "id": "b3ece4f6",
   "metadata": {},
   "outputs": [],
   "source": [
    "model=Sequential([\n",
    "    Embedding(input_dim=vocab_size, output_dim=200, input_length=max_len,\n",
    "    weights=[embedding_matrix], trainable=False),\n",
    "    Bidirectional(LSTM(128,return_sequences=False)),\n",
    "    Dropout(0.3),\n",
    "    Dense(64,activation='relu'),\n",
    "    Dropout(0.3),\n",
    "    Dense(5,activation='softmax')\n",
    "])"
   ]
  },
  {
   "cell_type": "code",
   "execution_count": 55,
   "id": "13fd2a56",
   "metadata": {},
   "outputs": [
    {
     "name": "stdout",
     "output_type": "stream",
     "text": [
      "Model: \"sequential_2\"\n",
      "_________________________________________________________________\n",
      " Layer (type)                Output Shape              Param #   \n",
      "=================================================================\n",
      " embedding_2 (Embedding)     (None, 200, 200)          2000000   \n",
      "                                                                 \n",
      " bidirectional_2 (Bidirecti  (None, 256)               336896    \n",
      " onal)                                                           \n",
      "                                                                 \n",
      " dropout_4 (Dropout)         (None, 256)               0         \n",
      "                                                                 \n",
      " dense_4 (Dense)             (None, 64)                16448     \n",
      "                                                                 \n",
      " dropout_5 (Dropout)         (None, 64)                0         \n",
      "                                                                 \n",
      " dense_5 (Dense)             (None, 5)                 325       \n",
      "                                                                 \n",
      "=================================================================\n",
      "Total params: 2353669 (8.98 MB)\n",
      "Trainable params: 353669 (1.35 MB)\n",
      "Non-trainable params: 2000000 (7.63 MB)\n",
      "_________________________________________________________________\n"
     ]
    }
   ],
   "source": [
    "model.compile(loss='sparse_categorical_crossentropy',\n",
    "              optimizer='adam',\n",
    "              metrics=['accuracy'])\n",
    "model.summary()"
   ]
  },
  {
   "cell_type": "code",
   "execution_count": 56,
   "id": "b47f4fd4",
   "metadata": {},
   "outputs": [
    {
     "name": "stdout",
     "output_type": "stream",
     "text": [
      "Epoch 1/13\n",
      "134/134 [==============================] - 16s 107ms/step - loss: 1.4689 - accuracy: 0.3626 - val_loss: 1.3257 - val_accuracy: 0.4906\n",
      "Epoch 2/13\n",
      "134/134 [==============================] - 13s 100ms/step - loss: 1.1694 - accuracy: 0.5427 - val_loss: 1.0817 - val_accuracy: 0.5744\n",
      "Epoch 3/13\n",
      "134/134 [==============================] - 13s 100ms/step - loss: 0.9976 - accuracy: 0.6311 - val_loss: 1.0402 - val_accuracy: 0.5996\n",
      "Epoch 4/13\n",
      "134/134 [==============================] - 13s 99ms/step - loss: 0.8661 - accuracy: 0.6824 - val_loss: 0.8864 - val_accuracy: 0.6709\n",
      "Epoch 5/13\n",
      "134/134 [==============================] - 13s 98ms/step - loss: 0.7828 - accuracy: 0.7183 - val_loss: 0.8942 - val_accuracy: 0.6583\n",
      "Epoch 6/13\n",
      "134/134 [==============================] - 13s 97ms/step - loss: 0.7134 - accuracy: 0.7442 - val_loss: 0.8431 - val_accuracy: 0.6960\n",
      "Epoch 7/13\n",
      "134/134 [==============================] - 13s 98ms/step - loss: 0.6420 - accuracy: 0.7736 - val_loss: 0.8088 - val_accuracy: 0.6981\n",
      "Epoch 8/13\n",
      "134/134 [==============================] - 13s 99ms/step - loss: 0.5716 - accuracy: 0.7922 - val_loss: 0.7867 - val_accuracy: 0.7254\n",
      "Epoch 9/13\n",
      "134/134 [==============================] - 13s 99ms/step - loss: 0.5102 - accuracy: 0.8209 - val_loss: 0.8117 - val_accuracy: 0.7128\n",
      "Epoch 10/13\n",
      "134/134 [==============================] - 13s 97ms/step - loss: 0.4269 - accuracy: 0.8465 - val_loss: 0.7733 - val_accuracy: 0.7526\n",
      "Epoch 11/13\n",
      "134/134 [==============================] - 14s 102ms/step - loss: 0.3667 - accuracy: 0.8647 - val_loss: 0.8034 - val_accuracy: 0.7358\n",
      "Epoch 12/13\n",
      "134/134 [==============================] - 13s 101ms/step - loss: 0.3416 - accuracy: 0.8794 - val_loss: 0.9066 - val_accuracy: 0.7317\n",
      "Epoch 13/13\n",
      "134/134 [==============================] - 13s 99ms/step - loss: 0.2797 - accuracy: 0.8944 - val_loss: 0.8703 - val_accuracy: 0.7442\n"
     ]
    },
    {
     "data": {
      "text/plain": [
       "<keras.src.callbacks.History at 0x212c20ffa60>"
      ]
     },
     "execution_count": 56,
     "metadata": {},
     "output_type": "execute_result"
    }
   ],
   "source": [
    "model.fit(X_train_pad,y_train,\n",
    "          epochs=13,validation_split=0.1,\n",
    "          batch_size=32)"
   ]
  },
  {
   "cell_type": "code",
   "execution_count": 57,
   "id": "4cab9ab5",
   "metadata": {},
   "outputs": [
    {
     "name": "stdout",
     "output_type": "stream",
     "text": [
      "38/38 [==============================] - 2s 42ms/step - loss: 0.8085 - accuracy: 0.7475\n",
      "Test Accuracy: 0.7475\n"
     ]
    }
   ],
   "source": [
    "loss, accuracy = model.evaluate(X_test_pad,y_test)\n",
    "print(f\"Test Accuracy: {accuracy:.4f}\")"
   ]
  },
  {
   "cell_type": "code",
   "execution_count": 58,
   "id": "ccd8e74b",
   "metadata": {},
   "outputs": [
    {
     "name": "stderr",
     "output_type": "stream",
     "text": [
      "d:\\anaconda\\envs\\myenv\\lib\\site-packages\\keras\\src\\engine\\training.py:3103: UserWarning: You are saving your model as an HDF5 file via `model.save()`. This file format is considered legacy. We recommend using instead the native Keras format, e.g. `model.save('my_model.keras')`.\n",
      "  saving_api.save_model(\n"
     ]
    }
   ],
   "source": [
    "model.save(\"model.h5\")"
   ]
  },
  {
   "cell_type": "code",
   "execution_count": 59,
   "id": "d5f00fb4",
   "metadata": {},
   "outputs": [],
   "source": [
    "import pickle\n",
    "with open('tokenizer.pkl','wb') as file:\n",
    "    pickle.dump(tokenizer,file)"
   ]
  },
  {
   "cell_type": "code",
   "execution_count": null,
   "id": "282f7ef3",
   "metadata": {},
   "outputs": [],
   "source": []
  }
 ],
 "metadata": {
  "kernelspec": {
   "display_name": "myenv",
   "language": "python",
   "name": "python3"
  },
  "language_info": {
   "codemirror_mode": {
    "name": "ipython",
    "version": 3
   },
   "file_extension": ".py",
   "mimetype": "text/x-python",
   "name": "python",
   "nbconvert_exporter": "python",
   "pygments_lexer": "ipython3",
   "version": "3.10.16"
  }
 },
 "nbformat": 4,
 "nbformat_minor": 5
}
